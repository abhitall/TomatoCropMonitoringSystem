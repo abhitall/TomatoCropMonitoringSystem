{
 "cells": [
  {
   "cell_type": "code",
   "execution_count": 1,
   "metadata": {},
   "outputs": [],
   "source": [
    "import os, boto3, sagemaker\r\n",
    "import numpy as np\r\n",
    "import pandas as pd\r\n",
    "from sklearn.utils import shuffle\r\n",
    "from sagemaker.session import s3_input, Session\r\n",
    "from sagemaker.inputs import TrainingInput\r\n",
    "from sagemaker.amazon.amazon_estimator import get_image_uri \r\n",
    "from sagemaker.image_uris import retrieve\r\n",
    "from sagemaker.tuner import IntegerParameter, CategoricalParameter, ContinuousParameter, HyperparameterTuner\r\n",
    "from sagemaker.predictor import csv_serializer"
   ]
  },
  {
   "cell_type": "code",
   "execution_count": 2,
   "metadata": {},
   "outputs": [
    {
     "name": "stdout",
     "output_type": "stream",
     "text": [
      "Error:  An error occurred (BucketAlreadyOwnedByYou) when calling the CreateBucket operation: Your previous request to create the named bucket succeeded and you already own it.\n",
      "s3://cropsuggestionsystem/xgboost/output\n"
     ]
    }
   ],
   "source": [
    "bucket_name = 'cropsuggestionsystem'\r\n",
    "my_region = 'us-east-2'\r\n",
    "\r\n",
    "s3 = boto3.resource('s3')\r\n",
    "try:\r\n",
    "    s3.create_bucket(Bucket=bucket_name, CreateBucketConfiguration={'LocationConstraint': my_region})\r\n",
    "    print('Success: {} bucket has been created'.format((bucket_name)))\r\n",
    "except Exception as e:\r\n",
    "    print('Error: ',e)\r\n",
    "\r\n",
    "prefix = 'xgboost'\r\n",
    "output_path ='s3://{}/{}/output'.format(bucket_name, prefix)\r\n",
    "print(output_path)"
   ]
  },
  {
   "cell_type": "code",
   "execution_count": 3,
   "metadata": {},
   "outputs": [
    {
     "name": "stdout",
     "output_type": "stream",
     "text": [
      "--2021-09-30 23:31:25--  https://raw.githubusercontent.com/Gladiator07/Harvestify/master/Data-processed/crop_recommendation.csv\n",
      "Resolving raw.githubusercontent.com (raw.githubusercontent.com)... 185.199.108.133, 185.199.109.133, 185.199.110.133, ...\n",
      "Connecting to raw.githubusercontent.com (raw.githubusercontent.com)|185.199.108.133|:443... connected.\n",
      "HTTP request sent, awaiting response... 200 OK\n",
      "Length: 147833 (144K) [text/plain]\n",
      "Saving to: ‘crop_recommendation.csv.1’\n",
      "\n",
      "crop_recommendation 100%[===================>] 144.37K  --.-KB/s    in 0.02s   \n",
      "\n",
      "2021-09-30 23:31:25 (5.81 MB/s) - ‘crop_recommendation.csv.1’ saved [147833/147833]\n",
      "\n",
      "Success: Dataframe created.\n",
      "(1760, 8) (440, 8)\n"
     ]
    }
   ],
   "source": [
    "!wget https://raw.githubusercontent.com/Gladiator07/Harvestify/master/Data-processed/crop_recommendation.csv\r\n",
    "\r\n",
    "try:\r\n",
    "    model_data = pd.read_csv('./crop_recommendation.csv', header= 0, index_col= False)\r\n",
    "    model_data['istomato'] = model_data['label'].apply(lambda x: 1 if x == 'lentil' else 0)\r\n",
    "    model_data = pd.concat([model_data['istomato'], model_data.drop(['istomato', 'label'], axis=1)], axis=1)\r\n",
    "    model_data.reset_index(drop=True, inplace=True)\r\n",
    "    model_data = shuffle(model_data)\r\n",
    "    print('Success: Dataframe created.')\r\n",
    "except Exception as e:\r\n",
    "    print('Error: ',e)\r\n",
    "\r\n",
    "train_data, test_data = np.split(model_data.sample(frac=1, random_state=1729), [int(0.8 * len(model_data))])\r\n",
    "print(train_data.shape, test_data.shape)\r\n",
    "\r\n",
    "train_data.to_csv('train.csv', index=False, header=False)\r\n",
    "boto3.Session().resource('s3').Bucket(bucket_name).Object(os.path.join(prefix, 'train/train.csv')).upload_file('train.csv')\r\n",
    "s3_input_train = sagemaker.TrainingInput(s3_data='s3://{}/{}/train'.format(bucket_name, prefix), content_type='csv')\r\n",
    "\r\n",
    "test_data.to_csv('test.csv', index=False, header=False)\r\n",
    "boto3.Session().resource('s3').Bucket(bucket_name).Object(os.path.join(prefix, 'test/test.csv')).upload_file('test.csv')\r\n",
    "s3_input_test = sagemaker.TrainingInput(s3_data='s3://{}/{}/test'.format(bucket_name, prefix), content_type='csv')"
   ]
  },
  {
   "cell_type": "code",
   "execution_count": 4,
   "metadata": {},
   "outputs": [
    {
     "name": "stdout",
     "output_type": "stream",
     "text": [
      "2021-09-30 23:31:26 Starting - Starting the training job...\n",
      "2021-09-30 23:31:48 Starting - Launching requested ML instancesProfilerReport-1633044686: InProgress\n",
      "...\n",
      "2021-09-30 23:32:14 Starting - Preparing the instances for training............\n",
      "2021-09-30 23:34:22 Downloading - Downloading input data\n",
      "2021-09-30 23:34:22 Training - Downloading the training image...\n",
      "2021-09-30 23:34:54 Uploading - Uploading generated training model\u001b[34mArguments: train\u001b[0m\n",
      "\u001b[34m[2021-09-30:23:34:44:INFO] Running standalone xgboost training.\u001b[0m\n",
      "\u001b[34m[2021-09-30:23:34:44:INFO] File size need to be processed in the node: 0.13mb. Available memory size in the node: 8391.17mb\u001b[0m\n",
      "\u001b[34m[2021-09-30:23:34:44:INFO] Determined delimiter of CSV input is ','\u001b[0m\n",
      "\u001b[34m[23:34:44] S3DistributionType set as FullyReplicated\u001b[0m\n",
      "\u001b[34m[23:34:44] 1760x7 matrix with 12320 entries loaded from /opt/ml/input/data/train?format=csv&label_column=0&delimiter=,\u001b[0m\n",
      "\u001b[34m[2021-09-30:23:34:44:INFO] Determined delimiter of CSV input is ','\u001b[0m\n",
      "\u001b[34m[23:34:44] S3DistributionType set as FullyReplicated\u001b[0m\n",
      "\u001b[34m[23:34:44] 440x7 matrix with 3080 entries loaded from /opt/ml/input/data/validation?format=csv&label_column=0&delimiter=,\u001b[0m\n",
      "\u001b[34m[23:34:44] src/tree/updater_prune.cc:74: tree pruning end, 1 roots, 6 extra nodes, 0 pruned nodes, max_depth=3\u001b[0m\n",
      "\u001b[34m[0]#011train-auc:0.996826#011validation-auc:0.994147\u001b[0m\n",
      "\u001b[34m[23:34:44] src/tree/updater_prune.cc:74: tree pruning end, 1 roots, 6 extra nodes, 0 pruned nodes, max_depth=3\u001b[0m\n",
      "\u001b[34m[1]#011train-auc:0.9975#011validation-auc:0.994147\u001b[0m\n",
      "\u001b[34m[23:34:44] src/tree/updater_prune.cc:74: tree pruning end, 1 roots, 6 extra nodes, 0 pruned nodes, max_depth=3\u001b[0m\n",
      "\u001b[34m[2]#011train-auc:0.99846#011validation-auc:0.995624\u001b[0m\n",
      "\u001b[34m[23:34:44] src/tree/updater_prune.cc:74: tree pruning end, 1 roots, 6 extra nodes, 0 pruned nodes, max_depth=3\u001b[0m\n",
      "\u001b[34m[3]#011train-auc:0.998852#011validation-auc:0.995511\u001b[0m\n",
      "\u001b[34m[23:34:44] src/tree/updater_prune.cc:74: tree pruning end, 1 roots, 6 extra nodes, 0 pruned nodes, max_depth=3\u001b[0m\n",
      "\u001b[34m[4]#011train-auc:0.999661#011validation-auc:0.998466\u001b[0m\n",
      "\u001b[34m[23:34:44] src/tree/updater_prune.cc:74: tree pruning end, 1 roots, 4 extra nodes, 2 pruned nodes, max_depth=2\u001b[0m\n",
      "\u001b[34m[5]#011train-auc:0.999578#011validation-auc:0.998352\u001b[0m\n",
      "\u001b[34m[23:34:44] src/tree/updater_prune.cc:74: tree pruning end, 1 roots, 6 extra nodes, 0 pruned nodes, max_depth=3\u001b[0m\n",
      "\u001b[34m[6]#011train-auc:0.999752#011validation-auc:0.998807\u001b[0m\n",
      "\u001b[34m[23:34:44] src/tree/updater_prune.cc:74: tree pruning end, 1 roots, 4 extra nodes, 0 pruned nodes, max_depth=2\u001b[0m\n",
      "\u001b[34m[7]#011train-auc:0.999669#011validation-auc:0.998807\u001b[0m\n",
      "\u001b[34m[23:34:44] src/tree/updater_prune.cc:74: tree pruning end, 1 roots, 6 extra nodes, 0 pruned nodes, max_depth=3\u001b[0m\n",
      "\u001b[34m[8]#011train-auc:0.999774#011validation-auc:0.99892\u001b[0m\n",
      "\u001b[34m[23:34:44] src/tree/updater_prune.cc:74: tree pruning end, 1 roots, 6 extra nodes, 0 pruned nodes, max_depth=3\u001b[0m\n",
      "\u001b[34m[9]#011train-auc:0.999819#011validation-auc:0.999091\u001b[0m\n",
      "\n",
      "2021-09-30 23:35:09 Completed - Training job completed\n",
      "Training seconds: 51\n",
      "Billable seconds: 10\n",
      "Managed Spot Training savings: 80.4%\n"
     ]
    }
   ],
   "source": [
    "sess = sagemaker.Session()\r\n",
    "role=sagemaker.get_execution_role()\r\n",
    "container = retrieve(\"xgboost\", my_region, \"latest\")\r\n",
    "\r\n",
    "estimator = sagemaker.estimator.Estimator(container,\r\n",
    "                                          role=role,\r\n",
    "                                          sagemaker_session=sess,\r\n",
    "                                          instance_count=1, \r\n",
    "                                          instance_type='ml.m4.xlarge', \r\n",
    "                                          volume_size=5,\r\n",
    "                                          output_path=output_path,\r\n",
    "                                          use_spot_instances=True,\r\n",
    "                                          max_run=300,\r\n",
    "                                          max_wait=600)\r\n",
    "\r\n",
    "estimator.set_hyperparameters(\r\n",
    "    max_depth=5,\r\n",
    "    eta=0.2,\r\n",
    "    gamma=4,\r\n",
    "    min_child_weight=6,\r\n",
    "    subsample=0.8,\r\n",
    "    eval_metric=\"auc\",\r\n",
    "    objective=\"binary:logistic\",\r\n",
    "    num_round=10,\r\n",
    "    rate_drop=0.3,\r\n",
    "    tweedie_variance_power=1.4,\r\n",
    ")\r\n",
    "\r\n",
    "\r\n",
    "estimator.fit({'train': s3_input_train,'validation': s3_input_test})"
   ]
  },
  {
   "cell_type": "code",
   "execution_count": 5,
   "metadata": {},
   "outputs": [
    {
     "name": "stdout",
     "output_type": "stream",
     "text": [
      "-----!"
     ]
    }
   ],
   "source": [
    "xgb_predictor = estimator.deploy(initial_instance_count=1,instance_type='ml.m4.xlarge')"
   ]
  },
  {
   "cell_type": "code",
   "execution_count": 6,
   "metadata": {},
   "outputs": [
    {
     "name": "stderr",
     "output_type": "stream",
     "text": [
      "The csv_serializer has been renamed in sagemaker>=2.\n",
      "See: https://sagemaker.readthedocs.io/en/stable/v2.html for details.\n"
     ]
    },
    {
     "name": "stdout",
     "output_type": "stream",
     "text": [
      "(440,)\n",
      "[0.06419537 0.06722168 0.06419537 0.06419537 0.06419537 0.06419537\n",
      " 0.06419537 0.06419537 0.06419537 0.06419537 0.34863633 0.06419537\n",
      " 0.06419537 0.06419537 0.06419537 0.06419537 0.06419537 0.06419537\n",
      " 0.06419537 0.06419537 0.06419537 0.10059974 0.06419537 0.89532226\n",
      " 0.06722168 0.06419537 0.06419537 0.06419537 0.06419537 0.06419537\n",
      " 0.06419537 0.06419537 0.06419537 0.06419537 0.06419537 0.06722168\n",
      " 0.91964841 0.06419537 0.06722168 0.06419537 0.06419537 0.06419537\n",
      " 0.06722168 0.06419537 0.06419537 0.06419537 0.06722168 0.90180528\n",
      " 0.06419537 0.06419537 0.06419537 0.06419537 0.06419537 0.06419537\n",
      " 0.06419537 0.06419537 0.06419537 0.06419537 0.06419537 0.06419537\n",
      " 0.06419537 0.06419537 0.06419537 0.06419537 0.06419537 0.06419537\n",
      " 0.06419537 0.06419537 0.06419537 0.06419537 0.8130849  0.06419537\n",
      " 0.90180528 0.06419537 0.06419537 0.06419537 0.06419537 0.06419537\n",
      " 0.06419537 0.06419537 0.06419537 0.06419537 0.06419537 0.06419537\n",
      " 0.06419537 0.89532226 0.06419537 0.50797719 0.06722168 0.06419537\n",
      " 0.34863633 0.06419537 0.06419537 0.06722168 0.06419537 0.06419537\n",
      " 0.06419537 0.06419537 0.06722168 0.06722168 0.06419537 0.06419537\n",
      " 0.06419537 0.06419537 0.06419537 0.06722168 0.06419537 0.06419537\n",
      " 0.69653815 0.91964841 0.06419537 0.06419537 0.06419537 0.06419537\n",
      " 0.06419537 0.06419537 0.06419537 0.06419537 0.06419537 0.06419537\n",
      " 0.06419537 0.06419537 0.34863633 0.06419537 0.06722168 0.06419537\n",
      " 0.06419537 0.06419537 0.06419537 0.06419537 0.06419537 0.46591979\n",
      " 0.06419537 0.06419537 0.06419537 0.06419537 0.06722168 0.06419537\n",
      " 0.06690505 0.06419537 0.06419537 0.06419537 0.06419537 0.06419537\n",
      " 0.06419537 0.06419537 0.06419537 0.06419537 0.91964841 0.06419537\n",
      " 0.06419537 0.06419537 0.06419537 0.06419537 0.06419537 0.06419537\n",
      " 0.06419537 0.06722168 0.06419537 0.06419537 0.06419537 0.06419537\n",
      " 0.06419537 0.06419537 0.06419537 0.06419537 0.06419537 0.06419537\n",
      " 0.06419537 0.06419537 0.06419537 0.06419537 0.06419537 0.06419537\n",
      " 0.06419537 0.21674004 0.06419537 0.06419537 0.06419537 0.06419537\n",
      " 0.06419537 0.06419537 0.06419537 0.06419537 0.06419537 0.06419537\n",
      " 0.06419537 0.06419537 0.06419537 0.06722168 0.06419537 0.06419537\n",
      " 0.06419537 0.06419537 0.06419537 0.06419537 0.06722168 0.06419537\n",
      " 0.06419537 0.06419537 0.06419537 0.06419537 0.06419537 0.06419537\n",
      " 0.06419537 0.06419537 0.06419537 0.06419537 0.06419537 0.06419537\n",
      " 0.06419537 0.26386887 0.06419537 0.06419537 0.06419537 0.06419537\n",
      " 0.06419537 0.06419537 0.06419537 0.26386887 0.06419537 0.06419537\n",
      " 0.06419537 0.06419537 0.06419537 0.06419537 0.26386887 0.06419537\n",
      " 0.06419537 0.06722168 0.06722168 0.06419537 0.06419537 0.06419537\n",
      " 0.06419537 0.06419537 0.06419537 0.06419537 0.64810795 0.06419537\n",
      " 0.06419537 0.06722168 0.06419537 0.06419537 0.06419537 0.06419537\n",
      " 0.06419537 0.06419537 0.06419537 0.06419537 0.06419537 0.06419537\n",
      " 0.06419537 0.06419537 0.06419537 0.06419537 0.06419537 0.06535384\n",
      " 0.06419537 0.06419537 0.06419537 0.06419537 0.06419537 0.06419537\n",
      " 0.06419537 0.06419537 0.06419537 0.06419537 0.06419537 0.06419537\n",
      " 0.90180528 0.06419537 0.06419537 0.06419537 0.87282413 0.06419537\n",
      " 0.06419537 0.06419537 0.06419537 0.06419537 0.06419537 0.06419537\n",
      " 0.06419537 0.06419537 0.06419537 0.06419537 0.20840533 0.91964841\n",
      " 0.06419537 0.06419537 0.91964841 0.91964841 0.90180528 0.06419537\n",
      " 0.06722168 0.06722168 0.06419537 0.06419537 0.06419537 0.06419537\n",
      " 0.06419537 0.06419537 0.06722168 0.06722168 0.06419537 0.06419537\n",
      " 0.06722168 0.06419537 0.06419537 0.06419537 0.06419537 0.06419537\n",
      " 0.06419537 0.06722168 0.06419537 0.4305253  0.06419537 0.06419537\n",
      " 0.06419537 0.06419537 0.06722168 0.06419537 0.06419537 0.06419537\n",
      " 0.06419537 0.06722168 0.06419537 0.06419537 0.06419537 0.06722168\n",
      " 0.06419537 0.06722168 0.06419537 0.06722168 0.06419537 0.06419537\n",
      " 0.06419537 0.06419537 0.10059974 0.06419537 0.06419537 0.06419537\n",
      " 0.06419537 0.06419537 0.06419537 0.06419537 0.06419537 0.06419537\n",
      " 0.06419537 0.06419537 0.06722168 0.06535384 0.06419537 0.10059974\n",
      " 0.06419537 0.06419537 0.06419537 0.06419537 0.06419537 0.06419537\n",
      " 0.06419537 0.06419537 0.06419537 0.06419537 0.06722168 0.06419537\n",
      " 0.06419537 0.06419537 0.06419537 0.06419537 0.06419537 0.06722168\n",
      " 0.91964841 0.06419537 0.06419537 0.06419537 0.06419537 0.06722168\n",
      " 0.06419537 0.06419537 0.06419537 0.06419537 0.06419537 0.06419537\n",
      " 0.06419537 0.06419537 0.06419537 0.06419537 0.06419537 0.06419537\n",
      " 0.10059974 0.06419537 0.06419537 0.06722168 0.06419537 0.06722168\n",
      " 0.06419537 0.06419537 0.06419537 0.06419537 0.06419537 0.90180528\n",
      " 0.06419537 0.06419537 0.06419537 0.06419537 0.06419537 0.06722168\n",
      " 0.06419537 0.06419537 0.06419537 0.06722168 0.06419537 0.06722168\n",
      " 0.06419537 0.06722168 0.06419537 0.06722168 0.06419537 0.90180528\n",
      " 0.06419537 0.06722168 0.06419537 0.06722168 0.06419537 0.06419537\n",
      " 0.06419537 0.06419537 0.06419537 0.06419537 0.06419537 0.06419537\n",
      " 0.06419537 0.06419537 0.06419537 0.06419537 0.06419537 0.06419537\n",
      " 0.06419537 0.06419537]\n",
      "\n",
      "Overall Classification Rate: 99.3%\n",
      "\n",
      "Predicted      NotTomato        Tomato\n",
      "Observed\n",
      "NotTomato      100% (418)     5% (1)\n",
      "Tomato          0% (2)     95% (19) \n",
      "\n"
     ]
    }
   ],
   "source": [
    "test_data_array = test_data.drop(['istomato'], axis=1).values #load the data into an array\r\n",
    "# xgb_predictor.content_type = 'text/csv' # set the data type for an inference\r\n",
    "xgb_predictor.serializer = csv_serializer # set the serializer type\r\n",
    "predictions = xgb_predictor.predict(test_data_array).decode('utf-8') # predict!\r\n",
    "predictions_array = np.fromstring(predictions[1:], sep=',') # and turn the prediction into an array\r\n",
    "print(predictions_array.shape)\r\n",
    "print(predictions_array)\r\n",
    "\r\n",
    "cm = pd.crosstab(index=test_data['istomato'], columns=np.round(predictions_array), rownames=['Observed'], colnames=['Predicted'])\r\n",
    "tn = cm.iloc[0,0]; fn = cm.iloc[1,0]; tp = cm.iloc[1,1]; fp = cm.iloc[0,1]; p = (tp+tn)/(tp+tn+fp+fn)*100\r\n",
    "print(\"\\n{0:<20}{1:<4.1f}%\\n\".format(\"Overall Classification Rate: \", p))\r\n",
    "print(\"{0:<15}{1:<15}{2:>8}\".format(\"Predicted\", \"NotTomato\", \"Tomato\"))\r\n",
    "print(\"Observed\")\r\n",
    "print(\"{0:<15}{1:<2.0f}% ({2:<}){3:>6.0f}% ({4:<})\".format(\"NotTomato\", tn/(tn+fn)*100,tn, fp/(tp+fp)*100, fp))\r\n",
    "print(\"{0:<16}{1:<1.0f}% ({2:<}){3:>7.0f}% ({4:<}) \\n\".format(\"Tomato\", fn/(tn+fn)*100,fn, tp/(tp+fp)*100, tp))"
   ]
  },
  {
   "cell_type": "code",
   "execution_count": 7,
   "metadata": {},
   "outputs": [
    {
     "name": "stderr",
     "output_type": "stream",
     "text": [
      "The endpoint attribute has been renamed in sagemaker>=2.\n",
      "See: https://sagemaker.readthedocs.io/en/stable/v2.html for details.\n"
     ]
    },
    {
     "data": {
      "text/plain": [
       "[{'ResponseMetadata': {'RequestId': 'TFAT7TSKHESE88FF',\n",
       "   'HostId': 'F2ulcplcl0iBczg64klbGPtu6BMiv39nmAQd6S8TzechqUIbnFxyfGSd6Dy59BSlQKKlfZkYCn4=',\n",
       "   'HTTPStatusCode': 200,\n",
       "   'HTTPHeaders': {'x-amz-id-2': 'F2ulcplcl0iBczg64klbGPtu6BMiv39nmAQd6S8TzechqUIbnFxyfGSd6Dy59BSlQKKlfZkYCn4=',\n",
       "    'x-amz-request-id': 'TFAT7TSKHESE88FF',\n",
       "    'date': 'Thu, 30 Sep 2021 23:38:11 GMT',\n",
       "    'content-type': 'application/xml',\n",
       "    'transfer-encoding': 'chunked',\n",
       "    'server': 'AmazonS3',\n",
       "    'connection': 'close'},\n",
       "   'RetryAttempts': 0},\n",
       "  'Deleted': [{'Key': 'xgboost/output/xgboost-2021-09-30-23-31-26-067/profiler-output/system/training_job_end.ts'},\n",
       "   {'Key': 'xgboost/test/test.csv'},\n",
       "   {'Key': 'xgboost/output/xgboost-2021-09-30-23-31-26-067/output/model.tar.gz'},\n",
       "   {'Key': 'xgboost/train/train.csv'},\n",
       "   {'Key': 'xgboost/output/xgboost-2021-09-30-23-31-26-067/profiler-output/system/incremental/2021093023/1633044840.algo-1.json'},\n",
       "   {'Key': 'xgboost/output/xgboost-2021-09-30-23-31-26-067/profiler-output/framework/training_job_end.ts'}]}]"
      ]
     },
     "execution_count": 7,
     "metadata": {},
     "output_type": "execute_result"
    }
   ],
   "source": [
    "sagemaker.Session().delete_endpoint(xgb_predictor.endpoint)\r\n",
    "bucket_to_delete = boto3.resource('s3').Bucket(bucket_name)\r\n",
    "bucket_to_delete.objects.all().delete()"
   ]
  }
 ],
 "metadata": {
  "interpreter": {
   "hash": "000cff6039eb72e29fc763c6d495939a0ea05df42e0e32d519b5bb37d365871d"
  },
  "kernelspec": {
   "display_name": "Python 3 (ipykernel)",
   "language": "python",
   "name": "python3"
  },
  "language_info": {
   "codemirror_mode": {
    "name": "ipython",
    "version": 3
   },
   "file_extension": ".py",
   "mimetype": "text/x-python",
   "name": "python",
   "nbconvert_exporter": "python",
   "pygments_lexer": "ipython3",
   "version": "3.8.11"
  }
 },
 "nbformat": 4,
 "nbformat_minor": 4
}
